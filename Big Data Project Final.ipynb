{
 "cells": [
  {
   "cell_type": "markdown",
   "metadata": {},
   "source": [
    "# Import Python and show version used"
   ]
  },
  {
   "cell_type": "code",
   "execution_count": 33,
   "metadata": {},
   "outputs": [
    {
     "name": "stdout",
     "output_type": "stream",
     "text": [
      "Python Version\n",
      "3.7.3 (default, Apr 24 2019, 15:29:51) [MSC v.1915 64 bit (AMD64)]\n"
     ]
    }
   ],
   "source": [
    "import sys\n",
    "print ('Python Version')\n",
    "print (sys.version)"
   ]
  },
  {
   "cell_type": "markdown",
   "metadata": {},
   "source": [
    "# Import packages used"
   ]
  },
  {
   "cell_type": "code",
   "execution_count": 1,
   "metadata": {},
   "outputs": [],
   "source": [
    "import pandas as pd\n",
    "import numpy as np\n",
    "import seaborn as sns\n",
    "import matplotlib.pyplot as plt\n",
    "from sklearn import metrics\n",
    "from sklearn import cluster\n",
    "from scipy import stats\n",
    "from sklearn.model_selection import train_test_split\n",
    "from sklearn.linear_model import LogisticRegression\n",
    "from sklearn.preprocessing import OrdinalEncoder\n",
    "from sklearn.preprocessing import LabelEncoder\n",
    "from sklearn.preprocessing import scale\n"
   ]
  },
  {
   "cell_type": "markdown",
   "metadata": {},
   "source": [
    "# Load UFC dataset and replace values"
   ]
  },
  {
   "cell_type": "code",
   "execution_count": 35,
   "metadata": {},
   "outputs": [],
   "source": [
    "ufcrawdata = pd.read_csv('UFC_data.csv')\n",
    "ufcrawdata.dropna(inplace=True)"
   ]
  },
  {
   "cell_type": "code",
   "execution_count": 36,
   "metadata": {},
   "outputs": [
    {
     "data": {
      "text/html": [
       "<div>\n",
       "<style scoped>\n",
       "    .dataframe tbody tr th:only-of-type {\n",
       "        vertical-align: middle;\n",
       "    }\n",
       "\n",
       "    .dataframe tbody tr th {\n",
       "        vertical-align: top;\n",
       "    }\n",
       "\n",
       "    .dataframe thead th {\n",
       "        text-align: right;\n",
       "    }\n",
       "</style>\n",
       "<table border=\"1\" class=\"dataframe\">\n",
       "  <thead>\n",
       "    <tr style=\"text-align: right;\">\n",
       "      <th></th>\n",
       "      <th>R_fighter</th>\n",
       "      <th>B_fighter</th>\n",
       "      <th>Referee</th>\n",
       "      <th>date</th>\n",
       "      <th>location</th>\n",
       "      <th>Winner</th>\n",
       "      <th>title_bout</th>\n",
       "      <th>weight_class</th>\n",
       "      <th>no_of_rounds</th>\n",
       "      <th>B_current_lose_streak</th>\n",
       "      <th>...</th>\n",
       "      <th>R_win_by_KO/TKO</th>\n",
       "      <th>R_win_by_Submission</th>\n",
       "      <th>R_win_by_TKO_Doctor_Stoppage</th>\n",
       "      <th>R_wins</th>\n",
       "      <th>R_Stance</th>\n",
       "      <th>R_Height_cms</th>\n",
       "      <th>R_Reach_cms</th>\n",
       "      <th>R_Weight_lbs</th>\n",
       "      <th>B_age</th>\n",
       "      <th>R_age</th>\n",
       "    </tr>\n",
       "  </thead>\n",
       "  <tbody>\n",
       "    <tr>\n",
       "      <th>0</th>\n",
       "      <td>Henry Cejudo</td>\n",
       "      <td>Marlon Moraes</td>\n",
       "      <td>Marc Goddard</td>\n",
       "      <td>2019-06-08</td>\n",
       "      <td>Chicago, Illinois, USA</td>\n",
       "      <td>Red</td>\n",
       "      <td>True</td>\n",
       "      <td>Bantamweight</td>\n",
       "      <td>5</td>\n",
       "      <td>0.0</td>\n",
       "      <td>...</td>\n",
       "      <td>2.0</td>\n",
       "      <td>0.0</td>\n",
       "      <td>0.0</td>\n",
       "      <td>8.0</td>\n",
       "      <td>Orthodox</td>\n",
       "      <td>162.56</td>\n",
       "      <td>162.56</td>\n",
       "      <td>135.0</td>\n",
       "      <td>31.0</td>\n",
       "      <td>32.0</td>\n",
       "    </tr>\n",
       "    <tr>\n",
       "      <th>1</th>\n",
       "      <td>Valentina Shevchenko</td>\n",
       "      <td>Jessica Eye</td>\n",
       "      <td>Robert Madrigal</td>\n",
       "      <td>2019-06-08</td>\n",
       "      <td>Chicago, Illinois, USA</td>\n",
       "      <td>Red</td>\n",
       "      <td>True</td>\n",
       "      <td>Women's Flyweight</td>\n",
       "      <td>5</td>\n",
       "      <td>0.0</td>\n",
       "      <td>...</td>\n",
       "      <td>0.0</td>\n",
       "      <td>2.0</td>\n",
       "      <td>0.0</td>\n",
       "      <td>5.0</td>\n",
       "      <td>Southpaw</td>\n",
       "      <td>165.10</td>\n",
       "      <td>167.64</td>\n",
       "      <td>125.0</td>\n",
       "      <td>32.0</td>\n",
       "      <td>31.0</td>\n",
       "    </tr>\n",
       "    <tr>\n",
       "      <th>2</th>\n",
       "      <td>Tony Ferguson</td>\n",
       "      <td>Donald Cerrone</td>\n",
       "      <td>Dan Miragliotta</td>\n",
       "      <td>2019-06-08</td>\n",
       "      <td>Chicago, Illinois, USA</td>\n",
       "      <td>Red</td>\n",
       "      <td>False</td>\n",
       "      <td>Lightweight</td>\n",
       "      <td>3</td>\n",
       "      <td>0.0</td>\n",
       "      <td>...</td>\n",
       "      <td>3.0</td>\n",
       "      <td>6.0</td>\n",
       "      <td>1.0</td>\n",
       "      <td>14.0</td>\n",
       "      <td>Orthodox</td>\n",
       "      <td>180.34</td>\n",
       "      <td>193.04</td>\n",
       "      <td>155.0</td>\n",
       "      <td>36.0</td>\n",
       "      <td>35.0</td>\n",
       "    </tr>\n",
       "    <tr>\n",
       "      <th>3</th>\n",
       "      <td>Jimmie Rivera</td>\n",
       "      <td>Petr Yan</td>\n",
       "      <td>Kevin MacDonald</td>\n",
       "      <td>2019-06-08</td>\n",
       "      <td>Chicago, Illinois, USA</td>\n",
       "      <td>Blue</td>\n",
       "      <td>False</td>\n",
       "      <td>Bantamweight</td>\n",
       "      <td>3</td>\n",
       "      <td>0.0</td>\n",
       "      <td>...</td>\n",
       "      <td>1.0</td>\n",
       "      <td>0.0</td>\n",
       "      <td>0.0</td>\n",
       "      <td>6.0</td>\n",
       "      <td>Orthodox</td>\n",
       "      <td>162.56</td>\n",
       "      <td>172.72</td>\n",
       "      <td>135.0</td>\n",
       "      <td>26.0</td>\n",
       "      <td>29.0</td>\n",
       "    </tr>\n",
       "    <tr>\n",
       "      <th>4</th>\n",
       "      <td>Tai Tuivasa</td>\n",
       "      <td>Blagoy Ivanov</td>\n",
       "      <td>Dan Miragliotta</td>\n",
       "      <td>2019-06-08</td>\n",
       "      <td>Chicago, Illinois, USA</td>\n",
       "      <td>Blue</td>\n",
       "      <td>False</td>\n",
       "      <td>Heavyweight</td>\n",
       "      <td>3</td>\n",
       "      <td>0.0</td>\n",
       "      <td>...</td>\n",
       "      <td>2.0</td>\n",
       "      <td>0.0</td>\n",
       "      <td>0.0</td>\n",
       "      <td>3.0</td>\n",
       "      <td>Southpaw</td>\n",
       "      <td>187.96</td>\n",
       "      <td>190.50</td>\n",
       "      <td>264.0</td>\n",
       "      <td>32.0</td>\n",
       "      <td>26.0</td>\n",
       "    </tr>\n",
       "  </tbody>\n",
       "</table>\n",
       "<p>5 rows × 145 columns</p>\n",
       "</div>"
      ],
      "text/plain": [
       "              R_fighter       B_fighter          Referee        date  \\\n",
       "0          Henry Cejudo   Marlon Moraes     Marc Goddard  2019-06-08   \n",
       "1  Valentina Shevchenko     Jessica Eye  Robert Madrigal  2019-06-08   \n",
       "2         Tony Ferguson  Donald Cerrone  Dan Miragliotta  2019-06-08   \n",
       "3         Jimmie Rivera        Petr Yan  Kevin MacDonald  2019-06-08   \n",
       "4           Tai Tuivasa   Blagoy Ivanov  Dan Miragliotta  2019-06-08   \n",
       "\n",
       "                 location Winner  title_bout       weight_class  no_of_rounds  \\\n",
       "0  Chicago, Illinois, USA    Red        True       Bantamweight             5   \n",
       "1  Chicago, Illinois, USA    Red        True  Women's Flyweight             5   \n",
       "2  Chicago, Illinois, USA    Red       False        Lightweight             3   \n",
       "3  Chicago, Illinois, USA   Blue       False       Bantamweight             3   \n",
       "4  Chicago, Illinois, USA   Blue       False        Heavyweight             3   \n",
       "\n",
       "   B_current_lose_streak  ...  R_win_by_KO/TKO  R_win_by_Submission  \\\n",
       "0                    0.0  ...              2.0                  0.0   \n",
       "1                    0.0  ...              0.0                  2.0   \n",
       "2                    0.0  ...              3.0                  6.0   \n",
       "3                    0.0  ...              1.0                  0.0   \n",
       "4                    0.0  ...              2.0                  0.0   \n",
       "\n",
       "   R_win_by_TKO_Doctor_Stoppage  R_wins  R_Stance  R_Height_cms  R_Reach_cms  \\\n",
       "0                           0.0     8.0  Orthodox        162.56       162.56   \n",
       "1                           0.0     5.0  Southpaw        165.10       167.64   \n",
       "2                           1.0    14.0  Orthodox        180.34       193.04   \n",
       "3                           0.0     6.0  Orthodox        162.56       172.72   \n",
       "4                           0.0     3.0  Southpaw        187.96       190.50   \n",
       "\n",
       "   R_Weight_lbs  B_age  R_age  \n",
       "0         135.0   31.0   32.0  \n",
       "1         125.0   32.0   31.0  \n",
       "2         155.0   36.0   35.0  \n",
       "3         135.0   26.0   29.0  \n",
       "4         264.0   32.0   26.0  \n",
       "\n",
       "[5 rows x 145 columns]"
      ]
     },
     "execution_count": 36,
     "metadata": {},
     "output_type": "execute_result"
    }
   ],
   "source": [
    "ufcrawdata.head()"
   ]
  },
  {
   "cell_type": "markdown",
   "metadata": {},
   "source": [
    "# Show shape of data set"
   ]
  },
  {
   "cell_type": "code",
   "execution_count": 37,
   "metadata": {},
   "outputs": [
    {
     "data": {
      "text/plain": [
       "(3202, 145)"
      ]
     },
     "execution_count": 37,
     "metadata": {},
     "output_type": "execute_result"
    }
   ],
   "source": [
    "ufcrawdata.shape"
   ]
  },
  {
   "cell_type": "markdown",
   "metadata": {},
   "source": [
    "# Adjust dataset to contain needed columns and drop rest"
   ]
  },
  {
   "cell_type": "code",
   "execution_count": 38,
   "metadata": {},
   "outputs": [],
   "source": [
    "colum_list = ['R_fighter', 'B_fighter', 'Winner','weight_class','R_age', 'B_age']"
   ]
  },
  {
   "cell_type": "code",
   "execution_count": 39,
   "metadata": {},
   "outputs": [
    {
     "name": "stderr",
     "output_type": "stream",
     "text": [
      "C:\\Users\\Will\\Anaconda3\\lib\\site-packages\\ipykernel_launcher.py:2: SettingWithCopyWarning: \n",
      "A value is trying to be set on a copy of a slice from a DataFrame\n",
      "\n",
      "See the caveats in the documentation: http://pandas.pydata.org/pandas-docs/stable/indexing.html#indexing-view-versus-copy\n",
      "  \n"
     ]
    }
   ],
   "source": [
    "ufcdata = ufcrawdata[colum_list]\n",
    "ufcdata.dropna(inplace=True)"
   ]
  },
  {
   "cell_type": "code",
   "execution_count": 40,
   "metadata": {},
   "outputs": [
    {
     "data": {
      "text/html": [
       "<div>\n",
       "<style scoped>\n",
       "    .dataframe tbody tr th:only-of-type {\n",
       "        vertical-align: middle;\n",
       "    }\n",
       "\n",
       "    .dataframe tbody tr th {\n",
       "        vertical-align: top;\n",
       "    }\n",
       "\n",
       "    .dataframe thead th {\n",
       "        text-align: right;\n",
       "    }\n",
       "</style>\n",
       "<table border=\"1\" class=\"dataframe\">\n",
       "  <thead>\n",
       "    <tr style=\"text-align: right;\">\n",
       "      <th></th>\n",
       "      <th>R_fighter</th>\n",
       "      <th>B_fighter</th>\n",
       "      <th>Winner</th>\n",
       "      <th>weight_class</th>\n",
       "      <th>R_age</th>\n",
       "      <th>B_age</th>\n",
       "    </tr>\n",
       "  </thead>\n",
       "  <tbody>\n",
       "    <tr>\n",
       "      <th>0</th>\n",
       "      <td>Henry Cejudo</td>\n",
       "      <td>Marlon Moraes</td>\n",
       "      <td>Red</td>\n",
       "      <td>Bantamweight</td>\n",
       "      <td>32.0</td>\n",
       "      <td>31.0</td>\n",
       "    </tr>\n",
       "    <tr>\n",
       "      <th>1</th>\n",
       "      <td>Valentina Shevchenko</td>\n",
       "      <td>Jessica Eye</td>\n",
       "      <td>Red</td>\n",
       "      <td>Women's Flyweight</td>\n",
       "      <td>31.0</td>\n",
       "      <td>32.0</td>\n",
       "    </tr>\n",
       "    <tr>\n",
       "      <th>2</th>\n",
       "      <td>Tony Ferguson</td>\n",
       "      <td>Donald Cerrone</td>\n",
       "      <td>Red</td>\n",
       "      <td>Lightweight</td>\n",
       "      <td>35.0</td>\n",
       "      <td>36.0</td>\n",
       "    </tr>\n",
       "    <tr>\n",
       "      <th>3</th>\n",
       "      <td>Jimmie Rivera</td>\n",
       "      <td>Petr Yan</td>\n",
       "      <td>Blue</td>\n",
       "      <td>Bantamweight</td>\n",
       "      <td>29.0</td>\n",
       "      <td>26.0</td>\n",
       "    </tr>\n",
       "    <tr>\n",
       "      <th>4</th>\n",
       "      <td>Tai Tuivasa</td>\n",
       "      <td>Blagoy Ivanov</td>\n",
       "      <td>Blue</td>\n",
       "      <td>Heavyweight</td>\n",
       "      <td>26.0</td>\n",
       "      <td>32.0</td>\n",
       "    </tr>\n",
       "  </tbody>\n",
       "</table>\n",
       "</div>"
      ],
      "text/plain": [
       "              R_fighter       B_fighter Winner       weight_class  R_age  \\\n",
       "0          Henry Cejudo   Marlon Moraes    Red       Bantamweight   32.0   \n",
       "1  Valentina Shevchenko     Jessica Eye    Red  Women's Flyweight   31.0   \n",
       "2         Tony Ferguson  Donald Cerrone    Red        Lightweight   35.0   \n",
       "3         Jimmie Rivera        Petr Yan   Blue       Bantamweight   29.0   \n",
       "4           Tai Tuivasa   Blagoy Ivanov   Blue        Heavyweight   26.0   \n",
       "\n",
       "   B_age  \n",
       "0   31.0  \n",
       "1   32.0  \n",
       "2   36.0  \n",
       "3   26.0  \n",
       "4   32.0  "
      ]
     },
     "execution_count": 40,
     "metadata": {},
     "output_type": "execute_result"
    }
   ],
   "source": [
    "ufcdata.head()"
   ]
  },
  {
   "cell_type": "markdown",
   "metadata": {},
   "source": [
    "# Visualize disparity of win rate based on corner color"
   ]
  },
  {
   "cell_type": "code",
   "execution_count": 41,
   "metadata": {},
   "outputs": [
    {
     "data": {
      "image/png": "[encoded data removed]",
      "text/plain": [
       "<Figure size 432x288 with 1 Axes>"
      ]
     },
     "metadata": {},
     "output_type": "display_data"
    }
   ],
   "source": [
    "labels = 'Red', 'Blue', 'Draw'\n",
    "sizes = [2016, 1135, 51]\n",
    "explode = (0.1, 0.1, 0.1)\n",
    "fig1, ax1 = plt.subplots()\n",
    "ax1.pie(sizes, explode=explode, labels=labels, autopct='%1.1f%%', \n",
    "        shadow=True, startangle=90, colors = ['red', 'blue', 'grey'])\n",
    "plt.title('Win Rate by Corner Color')\n",
    "plt.show()"
   ]
  },
  {
   "cell_type": "markdown",
   "metadata": {},
   "source": [
    "## Show wins per type"
   ]
  },
  {
   "cell_type": "code",
   "execution_count": 42,
   "metadata": {},
   "outputs": [
    {
     "data": {
      "text/plain": [
       "Red     2016\n",
       "Blue    1135\n",
       "Draw      51\n",
       "Name: Winner, dtype: int64"
      ]
     },
     "execution_count": 42,
     "metadata": {},
     "output_type": "execute_result"
    }
   ],
   "source": [
    "ufcdata.Winner.value_counts()"
   ]
  },
  {
   "cell_type": "markdown",
   "metadata": {},
   "source": [
    "## Present age statistics"
   ]
  },
  {
   "cell_type": "code",
   "execution_count": 43,
   "metadata": {},
   "outputs": [
    {
     "data": {
      "text/plain": [
       "count    3202.000000\n",
       "mean       30.093067\n",
       "std         4.138657\n",
       "min        19.000000\n",
       "25%        27.000000\n",
       "50%        30.000000\n",
       "75%        33.000000\n",
       "max        46.000000\n",
       "Name: R_age, dtype: float64"
      ]
     },
     "execution_count": 43,
     "metadata": {},
     "output_type": "execute_result"
    }
   ],
   "source": [
    "ufcdata.R_age.describe()"
   ]
  },
  {
   "cell_type": "code",
   "execution_count": 44,
   "metadata": {},
   "outputs": [
    {
     "data": {
      "text/plain": [
       "count    3202.000000\n",
       "mean       29.720800\n",
       "std         4.022756\n",
       "min        20.000000\n",
       "25%        27.000000\n",
       "50%        29.000000\n",
       "75%        32.000000\n",
       "max        47.000000\n",
       "Name: B_age, dtype: float64"
      ]
     },
     "execution_count": 44,
     "metadata": {},
     "output_type": "execute_result"
    }
   ],
   "source": [
    "ufcdata.B_age.describe()"
   ]
  },
  {
   "cell_type": "markdown",
   "metadata": {},
   "source": [
    "# Visualisze color corner ages to compare"
   ]
  },
  {
   "cell_type": "code",
   "execution_count": 45,
   "metadata": {},
   "outputs": [
    {
     "data": {
      "text/plain": [
       "Text(0, 0.5, 'Density of Fighter Ages')"
      ]
     },
     "execution_count": 45,
     "metadata": {},
     "output_type": "execute_result"
    },
    {
     "data": {
      "image/png": "[encoded data removed]",
      "text/plain": [
       "<Figure size 432x288 with 1 Axes>"
      ]
     },
     "metadata": {},
     "output_type": "display_data"
    }
   ],
   "source": [
    "ax = sns.distplot(ufcdata['R_age'], hist=True, kde=True, \n",
    "             bins=int(65/5), color = 'red', \n",
    "             hist_kws={'edgecolor':'black'},\n",
    "             kde_kws={'linewidth': 2})\n",
    "ax.set_xlabel('Red Corner Age\\n\\n Average Age of Red Corner Fighter is 30 years old')\n",
    "ax.set_ylabel('Density of Fighter Ages')"
   ]
  },
  {
   "cell_type": "code",
   "execution_count": 46,
   "metadata": {},
   "outputs": [
    {
     "data": {
      "text/plain": [
       "30.093066833229233"
      ]
     },
     "execution_count": 46,
     "metadata": {},
     "output_type": "execute_result"
    }
   ],
   "source": [
    "ufcdata.loc[:,\"R_age\"].mean()"
   ]
  },
  {
   "cell_type": "code",
   "execution_count": 47,
   "metadata": {},
   "outputs": [
    {
     "data": {
      "text/plain": [
       "Text(0, 0.5, 'Density of Fighter Ages')"
      ]
     },
     "execution_count": 47,
     "metadata": {},
     "output_type": "execute_result"
    },
    {
     "data": {
      "image/png": "[encoded data removed]",
      "text/plain": [
       "<Figure size 432x288 with 1 Axes>"
      ]
     },
     "metadata": {},
     "output_type": "display_data"
    }
   ],
   "source": [
    "ax = sns.distplot(ufcdata['B_age'], hist= True, kde=True, \n",
    "             bins=int(65/5), color = 'blue', \n",
    "             hist_kws={'edgecolor':'black'},\n",
    "             kde_kws={'linewidth': 2})\n",
    "ax.set_xlabel('Blue Corner Age \\n\\n Average Age of Blue Corner Fighter is 29 years old')\n",
    "ax.set_ylabel('Density of Fighter Ages')"
   ]
  },
  {
   "cell_type": "code",
   "execution_count": 48,
   "metadata": {},
   "outputs": [
    {
     "data": {
      "text/plain": [
       "29.720799500312303"
      ]
     },
     "execution_count": 48,
     "metadata": {},
     "output_type": "execute_result"
    }
   ],
   "source": [
    "ufcdata.loc[:,\"B_age\"].mean()"
   ]
  },
  {
   "cell_type": "markdown",
   "metadata": {},
   "source": [
    "# Show  weight classes in relation to winner"
   ]
  },
  {
   "cell_type": "code",
   "execution_count": 49,
   "metadata": {},
   "outputs": [
    {
     "data": {
      "text/plain": [
       "weight_class           Winner\n",
       "Bantamweight           Red       139\n",
       "                       Blue       99\n",
       "                       Draw        5\n",
       "Catch Weight           Red         6\n",
       "                       Blue        3\n",
       "Featherweight          Red       176\n",
       "                       Blue      118\n",
       "                       Draw        5\n",
       "Flyweight              Red        87\n",
       "                       Blue       50\n",
       "                       Draw        1\n",
       "Heavyweight            Red       167\n",
       "                       Blue       92\n",
       "                       Draw        5\n",
       "Light Heavyweight      Red       233\n",
       "                       Blue      102\n",
       "                       Draw        5\n",
       "Lightweight            Red       412\n",
       "                       Blue      218\n",
       "                       Draw       14\n",
       "Middleweight           Red       311\n",
       "                       Blue      157\n",
       "                       Draw        6\n",
       "Welterweight           Red       396\n",
       "                       Blue      231\n",
       "                       Draw        9\n",
       "Women's Bantamweight   Red        33\n",
       "                       Blue       24\n",
       "                       Draw        1\n",
       "Women's Featherweight  Blue        3\n",
       "                       Red         1\n",
       "Women's Flyweight      Red        10\n",
       "                       Blue        9\n",
       "Women's Strawweight    Red        45\n",
       "                       Blue       29\n",
       "Name: Winner, dtype: int64"
      ]
     },
     "execution_count": 49,
     "metadata": {},
     "output_type": "execute_result"
    }
   ],
   "source": [
    "win_weightclass = ufcrawdata.groupby(['weight_class']).Winner\n",
    "win_weightclass.value_counts()"
   ]
  },
  {
   "cell_type": "markdown",
   "metadata": {},
   "source": [
    "## Plot bar chart representing number of wins to weight class"
   ]
  },
  {
   "cell_type": "code",
   "execution_count": 50,
   "metadata": {},
   "outputs": [
    {
     "data": {
      "text/plain": [
       "Text(0.5, 0, 'UFC Weight Class')"
      ]
     },
     "execution_count": 50,
     "metadata": {},
     "output_type": "execute_result"
    },
    {
     "data": {
      "image/png": "[encoded data removed]",
      "text/plain": [
       "<Figure size 720x720 with 1 Axes>"
      ]
     },
     "metadata": {},
     "output_type": "display_data"
    }
   ],
   "source": [
    "plt.figure(figsize=(10,10))\n",
    "plt.yticks(rotation= 50)\n",
    "plt.xticks(rotation=70)\n",
    "sns.set(style= 'whitegrid')\n",
    "ax = sns.countplot(x = 'weight_class', data = ufcdata, palette=\"Set2\")\n",
    "ax.set_ylabel('Number of Fights per Weight Class')\n",
    "ax.set_xlabel('UFC Weight Class')"
   ]
  },
  {
   "cell_type": "markdown",
   "metadata": {},
   "source": [
    "## Present stacked bar chart to show color corner victories in relation to each weight class"
   ]
  },
  {
   "cell_type": "code",
   "execution_count": 51,
   "metadata": {},
   "outputs": [
    {
     "data": {
      "image/png": "[encoded data removed]",
      "text/plain": [
       "<Figure size 432x288 with 1 Axes>"
      ]
     },
     "metadata": {},
     "output_type": "display_data"
    }
   ],
   "source": [
    "ufcdata.groupby(['weight_class','Winner']).size().unstack().plot(kind='bar',stacked=True, color = ('blue','grey','red'))\n",
    "plt.title('Weight Class Win Rate by Corner Color')\n",
    "plt.show()"
   ]
  },
  {
   "cell_type": "markdown",
   "metadata": {},
   "source": [
    "# Unsupervised method of color corner age relation winner"
   ]
  },
  {
   "cell_type": "markdown",
   "metadata": {},
   "source": [
    "## Relationship of red age and winner"
   ]
  },
  {
   "cell_type": "code",
   "execution_count": 52,
   "metadata": {},
   "outputs": [
    {
     "data": {
      "text/html": [
       "<div>\n",
       "<style scoped>\n",
       "    .dataframe tbody tr th:only-of-type {\n",
       "        vertical-align: middle;\n",
       "    }\n",
       "\n",
       "    .dataframe tbody tr th {\n",
       "        vertical-align: top;\n",
       "    }\n",
       "\n",
       "    .dataframe thead th {\n",
       "        text-align: right;\n",
       "    }\n",
       "</style>\n",
       "<table border=\"1\" class=\"dataframe\">\n",
       "  <thead>\n",
       "    <tr style=\"text-align: right;\">\n",
       "      <th></th>\n",
       "      <th>Winner</th>\n",
       "      <th>R_age</th>\n",
       "    </tr>\n",
       "  </thead>\n",
       "  <tbody>\n",
       "    <tr>\n",
       "      <th>0</th>\n",
       "      <td>Red</td>\n",
       "      <td>32.0</td>\n",
       "    </tr>\n",
       "    <tr>\n",
       "      <th>1</th>\n",
       "      <td>Red</td>\n",
       "      <td>31.0</td>\n",
       "    </tr>\n",
       "    <tr>\n",
       "      <th>2</th>\n",
       "      <td>Red</td>\n",
       "      <td>35.0</td>\n",
       "    </tr>\n",
       "    <tr>\n",
       "      <th>3</th>\n",
       "      <td>Blue</td>\n",
       "      <td>29.0</td>\n",
       "    </tr>\n",
       "    <tr>\n",
       "      <th>4</th>\n",
       "      <td>Blue</td>\n",
       "      <td>26.0</td>\n",
       "    </tr>\n",
       "  </tbody>\n",
       "</table>\n",
       "</div>"
      ],
      "text/plain": [
       "  Winner  R_age\n",
       "0    Red   32.0\n",
       "1    Red   31.0\n",
       "2    Red   35.0\n",
       "3   Blue   29.0\n",
       "4   Blue   26.0"
      ]
     },
     "execution_count": 52,
     "metadata": {},
     "output_type": "execute_result"
    }
   ],
   "source": [
    "Rolum = ['Winner','R_age']\n",
    "Rage = ufcdata[Rolum]\n",
    "Rage.head()"
   ]
  },
  {
   "cell_type": "code",
   "execution_count": 103,
   "metadata": {},
   "outputs": [
    {
     "data": {
      "text/plain": [
       "(3202, 2)"
      ]
     },
     "execution_count": 103,
     "metadata": {},
     "output_type": "execute_result"
    }
   ],
   "source": [
    "Rage.shape"
   ]
  },
  {
   "cell_type": "markdown",
   "metadata": {},
   "source": [
    "## Transform variable values and scale to KMeans needs"
   ]
  },
  {
   "cell_type": "code",
   "execution_count": 104,
   "metadata": {},
   "outputs": [],
   "source": [
    "transformed_x = OrdinalEncoder().fit_transform(Rage)\n",
    "Y2 = Rage['R_age']\n",
    "transformed_y = LabelEncoder().fit_transform(Y2)"
   ]
  },
  {
   "cell_type": "code",
   "execution_count": 127,
   "metadata": {},
   "outputs": [],
   "source": [
    "scaled_data = scale(transformed_x)"
   ]
  },
  {
   "cell_type": "markdown",
   "metadata": {},
   "source": [
    "## Run Kmeans analysis"
   ]
  },
  {
   "cell_type": "code",
   "execution_count": 106,
   "metadata": {},
   "outputs": [
    {
     "name": "stdout",
     "output_type": "stream",
     "text": [
      "2\n",
      "0.006092412596155876\n",
      "0.026330328123112492\n",
      "3\n",
      "0.16316045731963402\n",
      "0.4205069857537184\n",
      "4\n",
      "0.24655898514819893\n",
      "0.5211801564625425\n",
      "5\n",
      "0.33280032753960037\n",
      "0.5953581312781001\n",
      "6\n",
      "0.3829573185551156\n",
      "0.6286116676884268\n",
      "7\n",
      "0.4408273281199129\n",
      "0.6606799141069295\n",
      "8\n",
      "0.47394093920802305\n",
      "0.677215539841743\n",
      "9\n",
      "0.4900224383863897\n",
      "0.6842270682787152\n",
      "10\n",
      "0.5572798581217505\n",
      "0.7108340491456886\n",
      "11\n",
      "0.5775833928925774\n",
      "0.7177263708045106\n",
      "12\n",
      "0.5754715512726484\n",
      "0.7040163916545747\n",
      "13\n",
      "0.5918305223547192\n",
      "0.7083044105127946\n",
      "14\n",
      "0.6247208993828128\n",
      "0.7194129477300077\n",
      "15\n",
      "0.6351180676254149\n",
      "0.7239136433952233\n",
      "16\n",
      "0.6554694871016906\n",
      "0.7292236608473146\n",
      "17\n",
      "0.6772703267067125\n",
      "0.730643108040235\n",
      "18\n",
      "0.6924258558023627\n",
      "0.7364186491096234\n",
      "19\n",
      "0.7159655489738116\n",
      "0.7428857242400259\n",
      "20\n",
      "0.7493335237124154\n",
      "0.750903704782603\n",
      "21\n",
      "0.7390374458079908\n",
      "0.748115767604273\n",
      "22\n",
      "0.7465175203336774\n",
      "0.7501731656477717\n",
      "23\n",
      "0.7906081953711238\n",
      "0.7607974017513711\n",
      "24\n",
      "0.7702859814313742\n",
      "0.7552070569217202\n",
      "25\n",
      "0.813415191150129\n",
      "0.7651381713023359\n",
      "26\n",
      "0.812909061209742\n",
      "0.7650263025306541\n",
      "27\n",
      "0.8439561722616863\n",
      "0.7716969398724297\n",
      "28\n",
      "0.834435751039146\n",
      "0.7696920432207438\n",
      "29\n",
      "0.8624514780076239\n",
      "0.7754937324262613\n",
      "30\n",
      "0.874056027706914\n",
      "0.7778121529620035\n",
      "31\n",
      "0.877385632009\n",
      "0.7784685452589569\n",
      "32\n",
      "0.8993999101902717\n",
      "0.7827126821210508\n",
      "33\n",
      "0.9109914794948104\n",
      "0.7848827187640055\n",
      "34\n",
      "0.9153796754250538\n",
      "0.7856929573199785\n",
      "35\n",
      "0.9315175479671144\n",
      "0.7886208823789276\n",
      "36\n",
      "0.9435601198494433\n",
      "0.7907541888575229\n",
      "37\n",
      "0.9454062942690884\n",
      "0.7910774325117546\n",
      "38\n",
      "0.9490585298115267\n",
      "0.7917139633379038\n",
      "39\n",
      "0.9627350572831456\n",
      "0.7940635120417276\n",
      "40\n",
      "0.9648460917580371\n",
      "0.7944214613717571\n",
      "41\n",
      "0.9700255208757294\n",
      "0.7952944416955303\n",
      "42\n",
      "0.9757694523879465\n",
      "0.7962539379048661\n",
      "43\n",
      "0.9760473155363758\n",
      "0.796300125578552\n",
      "44\n",
      "0.9780685349944269\n",
      "0.7966354727016615\n",
      "45\n",
      "0.982189043564961\n",
      "0.7973157112827955\n",
      "46\n",
      "0.9838790212189379\n",
      "0.7975933889118434\n",
      "47\n",
      "0.9851089640956121\n",
      "0.7977950010496921\n",
      "48\n",
      "0.9862883190649899\n",
      "0.7979879439799085\n",
      "49\n",
      "0.9877518359141718\n",
      "0.7982268645321752\n",
      "50\n",
      "0.9892234021219272\n",
      "0.7984665300111115\n"
     ]
    }
   ],
   "source": [
    "n_samples, n_features = scaled_data.shape\n",
    "n_digits = len(np.unique(transformed_y))\n",
    "Y2 = LabelEncoder().fit_transform(transformed_y)\n",
    "for k in range(2, 51):\n",
    " kmeans = cluster.KMeans(n_clusters=k)\n",
    " kmeans.fit(scaled_data)\n",
    " print(k)\n",
    " print(metrics.homogeneity_score(Y2, kmeans.labels_))\n",
    " print(metrics.completeness_score(Y2, kmeans.labels_))"
   ]
  },
  {
   "cell_type": "markdown",
   "metadata": {},
   "source": [
    "## Display Relation of Age to Fighter Wins"
   ]
  },
  {
   "cell_type": "code",
   "execution_count": 123,
   "metadata": {},
   "outputs": [
    {
     "data": {
      "image/png": "[encoded data removed]",
      "text/plain": [
       "<Figure size 432x288 with 1 Axes>"
      ]
     },
     "metadata": {},
     "output_type": "display_data"
    }
   ],
   "source": [
    "fig, ax = plt.subplots()\n",
    "ax.scatter(Rage[\"Winner\"], Rage[\"R_age\"], color='r', marker='^')\n",
    "plt.title('Age in Relation to Figher Wins')\n",
    "plt.show()"
   ]
  },
  {
   "cell_type": "markdown",
   "metadata": {},
   "source": [
    "# Supervised method of fighter weightclass to winner (Logistic Regression)"
   ]
  },
  {
   "cell_type": "code",
   "execution_count": 129,
   "metadata": {},
   "outputs": [
    {
     "name": "stderr",
     "output_type": "stream",
     "text": [
      "C:\\Users\\Will\\Anaconda3\\lib\\site-packages\\ipykernel_launcher.py:6: SettingWithCopyWarning: \n",
      "A value is trying to be set on a copy of a slice from a DataFrame.\n",
      "Try using .loc[row_indexer,col_indexer] = value instead\n",
      "\n",
      "See the caveats in the documentation: http://pandas.pydata.org/pandas-docs/stable/indexing.html#indexing-view-versus-copy\n",
      "  \n",
      "C:\\Users\\Will\\Anaconda3\\lib\\site-packages\\ipykernel_launcher.py:7: SettingWithCopyWarning: \n",
      "A value is trying to be set on a copy of a slice from a DataFrame\n",
      "\n",
      "See the caveats in the documentation: http://pandas.pydata.org/pandas-docs/stable/indexing.html#indexing-view-versus-copy\n",
      "  import sys\n"
     ]
    }
   ],
   "source": [
    "def tran_Winner(x):\n",
    "    if x == 'Red':\n",
    "        return 1\n",
    "    if x == 'Blue':\n",
    "        return 0\n",
    "ufcdata['T_Winner'] = ufcdata['Winner'].apply(tran_Winner)\n",
    "ufcdata.dropna(inplace=True)"
   ]
  },
  {
   "cell_type": "code",
   "execution_count": 130,
   "metadata": {},
   "outputs": [],
   "source": [
    "x=ufcdata[['weight_class']]\n",
    "y=ufcdata['T_Winner']\n",
    "\n",
    "X_train, X_test, Y_train, Y_test = train_test_split(x, y, test_size=0.3)"
   ]
  },
  {
   "cell_type": "code",
   "execution_count": 131,
   "metadata": {},
   "outputs": [],
   "source": [
    "transformed_x_train=OrdinalEncoder().fit_transform(X_train)\n",
    "transformed_x_test=OrdinalEncoder().fit_transform(X_test)"
   ]
  },
  {
   "cell_type": "code",
   "execution_count": 132,
   "metadata": {},
   "outputs": [
    {
     "name": "stdout",
     "output_type": "stream",
     "text": [
      "              precision    recall  f1-score   support\n",
      "\n",
      "         0.0       0.00      0.00      0.00       339\n",
      "         1.0       0.64      1.00      0.78       607\n",
      "\n",
      "    accuracy                           0.64       946\n",
      "   macro avg       0.32      0.50      0.39       946\n",
      "weighted avg       0.41      0.64      0.50       946\n",
      "\n"
     ]
    },
    {
     "name": "stderr",
     "output_type": "stream",
     "text": [
      "C:\\Users\\Will\\Anaconda3\\lib\\site-packages\\sklearn\\linear_model\\logistic.py:432: FutureWarning: Default solver will be changed to 'lbfgs' in 0.22. Specify a solver to silence this warning.\n",
      "  FutureWarning)\n",
      "C:\\Users\\Will\\Anaconda3\\lib\\site-packages\\sklearn\\metrics\\classification.py:1437: UndefinedMetricWarning: Precision and F-score are ill-defined and being set to 0.0 in labels with no predicted samples.\n",
      "  'precision', 'predicted', average, warn_for)\n"
     ]
    }
   ],
   "source": [
    "lm = LogisticRegression()\n",
    "lm.fit(transformed_x_train, Y_train)\n",
    "lm.predict_proba(transformed_x_test)\n",
    "predicted = lm.predict(transformed_x_test)\n",
    "print(metrics.classification_report(Y_test, predicted))"
   ]
  },
  {
   "cell_type": "code",
   "execution_count": 134,
   "metadata": {},
   "outputs": [
    {
     "name": "stdout",
     "output_type": "stream",
     "text": [
      "[[  0 339]\n",
      " [  0 607]]\n"
     ]
    }
   ],
   "source": [
    "print(metrics.confusion_matrix(Y_test, predicted))"
   ]
  },
  {
   "cell_type": "markdown",
   "metadata": {},
   "source": [
    "# End report"
   ]
  }
 ],
 "metadata": {
  "kernelspec": {
   "display_name": "Python 3",
   "language": "python",
   "name": "python3"
  },
  "language_info": {
   "codemirror_mode": {
    "name": "ipython",
    "version": 3
   },
   "file_extension": ".py",
   "mimetype": "text/x-python",
   "name": "python",
   "nbconvert_exporter": "python",
   "pygments_lexer": "ipython3",
   "version": "3.7.3"
  }
 },
 "nbformat": 4,
 "nbformat_minor": 2
}
